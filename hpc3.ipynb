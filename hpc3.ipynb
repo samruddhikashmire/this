{
  "nbformat": 4,
  "nbformat_minor": 0,
  "metadata": {
    "colab": {
      "provenance": []
    },
    "kernelspec": {
      "name": "python3",
      "display_name": "Python 3"
    },
    "language_info": {
      "name": "python"
    }
  },
  "cells": [
    {
      "cell_type": "code",
      "execution_count": null,
      "metadata": {
        "colab": {
          "base_uri": "https://localhost:8080/"
        },
        "id": "wDSE4PMDpJr8",
        "outputId": "a1993859-e7ff-4ed9-de23-41f78c3c8e57"
      },
      "outputs": [
        {
          "output_type": "stream",
          "name": "stdout",
          "text": [
            "Writing file.cpp\n"
          ]
        }
      ],
      "source": [
        "%%writefile file.cpp\n",
        "#include<bits/stdc++.h>\n",
        "#include<chrono>\n",
        "using namespace std;\n",
        "using namespace std::chrono;\n",
        "\n",
        "\n",
        "void print(vector<int>v)\n",
        "{\n",
        "    for(int i=0;i<v.size();i++)\n",
        "    {\n",
        "        cout<<v[i]<<\" \";\n",
        "    }\n",
        "}\n",
        "\n",
        "void minOp(vector<int>v)\n",
        "{\n",
        "    int mini = v[0];\n",
        "    #pragma omp parallel for reduction(min : mini)\n",
        "    for(int i=1;i<v.size();i++)\n",
        "    {\n",
        "        if(v[i] < mini)\n",
        "        {\n",
        "            mini = v[i];\n",
        "        }\n",
        "    }\n",
        "\n",
        "    cout<<\"MINI VALUE : \"<<mini<<endl;\n",
        "}\n",
        "\n",
        "void maxOp(vector<int>v)\n",
        "{\n",
        "    int maxi=v[0];\n",
        "    #pragma omp parallel for reduction(max : maxi)\n",
        "    for(int i=1;i<v.size();i++)\n",
        "    {\n",
        "        if(v[i] > maxi)\n",
        "        {\n",
        "            maxi = v[i];\n",
        "        }\n",
        "    }\n",
        "    cout<<\"MAXI VALUE : \"<<maxi<<endl;\n",
        "}\n",
        "\n",
        "void summ(vector<int>v)\n",
        "{\n",
        "    int s=0;\n",
        "    #pragma omp parallel for reduction(+ : s)\n",
        "    for(int i=0;i<v.size();i++)\n",
        "    {\n",
        "        s+=v[i];\n",
        "    }\n",
        "\n",
        "    cout<<\"SUM VALUE : \"<<s<<endl;\n",
        "}\n",
        "\n",
        "void avg(vector<int>v)\n",
        "{\n",
        "    int s=0;\n",
        "    #pragma omp parallel for reduction(+ : s)\n",
        "    for(int i=0;i<v.size();i++)\n",
        "    {\n",
        "        s+=v[i];\n",
        "    }\n",
        "    int a = s/v.size();\n",
        "    cout<<\"AVG VALUE : \"<<a<<endl;\n",
        "}\n",
        "\n",
        "int main()\n",
        "{\n",
        "    int len = 10000;\n",
        "    vector<int>v(len);\n",
        "    for(int i=0;i<len;i++)\n",
        "    {\n",
        "        v[i] = i;\n",
        "    }\n",
        "    auto start = high_resolution_clock::now();\n",
        "\n",
        "\n",
        "    minOp(v);\n",
        "    maxOp(v);\n",
        "    summ(v);\n",
        "    avg(v);\n",
        "\n",
        "    auto stop = high_resolution_clock::now();\n",
        "    auto duration = duration_cast<microseconds>(stop - start);\n",
        "    cout << \"\\nExecution time: \" << duration.count() << \" microseconds\" << endl;\n",
        "\n",
        "}"
      ]
    },
    {
      "cell_type": "code",
      "source": [
        "!g++ -fopenmp file.cpp -o file"
      ],
      "metadata": {
        "id": "VBSKJavVpQOf"
      },
      "execution_count": null,
      "outputs": []
    },
    {
      "cell_type": "code",
      "source": [
        "!./file"
      ],
      "metadata": {
        "id": "mZmXmeW_vPVo",
        "outputId": "fb16f074-8b8d-4769-a400-bc9de78352b7",
        "colab": {
          "base_uri": "https://localhost:8080/"
        }
      },
      "execution_count": null,
      "outputs": [
        {
          "output_type": "stream",
          "name": "stdout",
          "text": [
            "MINI VALUE : 0\n",
            "MAXI VALUE : 9999\n",
            "SUM VALUE : 49995000\n",
            "AVG VALUE : 4999\n",
            "\n",
            "Execution time: 355 microseconds\n"
          ]
        }
      ]
    },
    {
      "cell_type": "code",
      "source": [],
      "metadata": {
        "id": "EazIxmXBvSKy"
      },
      "execution_count": null,
      "outputs": []
    }
  ]
}