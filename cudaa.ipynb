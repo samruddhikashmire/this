{
  "nbformat": 4,
  "nbformat_minor": 0,
  "metadata": {
    "colab": {
      "provenance": [],
      "gpuType": "T4"
    },
    "kernelspec": {
      "name": "python3",
      "display_name": "Python 3"
    },
    "language_info": {
      "name": "python"
    },
    "accelerator": "GPU"
  },
  "cells": [
    {
      "cell_type": "code",
      "execution_count": null,
      "metadata": {
        "id": "X-Dwq4Z_Xyae",
        "colab": {
          "base_uri": "https://localhost:8080/"
        },
        "outputId": "4fceb52f-1c38-4a4e-cc7c-7b83f36c4f27"
      },
      "outputs": [
        {
          "output_type": "stream",
          "name": "stdout",
          "text": [
            "Writing main.cpp\n"
          ]
        }
      ],
      "source": [
        "%%writefile  main.cpp\n",
        "#include <bits/stdc++.h>\n",
        "using namespace std;\n",
        "\n",
        "class Graph\n",
        "{\n",
        "    int v ;\n",
        "    vector<vector<int>>adj;\n",
        "\n",
        "    public:\n",
        "    Graph(int a) : v(a) , adj(a) {}\n",
        "\n",
        "    void addEdge(int v , int w)\n",
        "    {\n",
        "        adj[v].push_back(w);\n",
        "    }\n",
        "\n",
        "    void dfs(int startvertex)\n",
        "    {\n",
        "        vector<bool>visited(v , false);\n",
        "        parallelDFS(startvertex , visited);\n",
        "    }\n",
        "\n",
        "    void parallelDFS(int a , vector<bool>&visited)\n",
        "   {\n",
        "     visited[a] = true;\n",
        "     cout<<a<<\" \";\n",
        "\n",
        "      #pragma omp parallel for\n",
        "     for(int i=0;i<adj[a].size();i++)\n",
        "     {\n",
        "       int curr = adj[a][i];\n",
        "       if(!visited[curr])\n",
        "       {\n",
        "          parallelDFS(curr, visited);\n",
        "       }\n",
        "     }\n",
        " }\n",
        "\n",
        "void parallelBFS(int startvertex)\n",
        "{\n",
        "    queue<int>q;\n",
        "    vector<bool>visited(v, false);\n",
        "\n",
        "    visited[startvertex] = true;\n",
        "    q.push(startvertex);\n",
        "\n",
        "    while(!q.empty())\n",
        "    {\n",
        "        int curr = q.front();\n",
        "        q.pop();\n",
        "        cout<<curr<<\" \";\n",
        "\n",
        "        #pragma omp parallel for\n",
        "        for(int i=0;i<adj[curr].size();i++)\n",
        "        {\n",
        "            int temp = adj[curr][i];\n",
        "            if(!visited[temp])\n",
        "            {\n",
        "                visited[temp] = true;\n",
        "                q.push(temp);\n",
        "            }\n",
        "        }\n",
        "    }\n",
        "}\n",
        "};\n",
        "\n",
        "int main()\n",
        "{\n",
        "    Graph v(7);\n",
        "    v.addEdge(0,1);\n",
        "    v.addEdge(0,2);\n",
        "    v.addEdge(1,3);\n",
        "    v.addEdge(1,4);\n",
        "    v.addEdge(2,5);\n",
        "    v.addEdge(2,6);\n",
        "\n",
        "    cout << \"Depth-First Search (DFS): \";\n",
        "    v.dfs(0);\n",
        "    cout << endl;\n",
        "\n",
        "    cout << \"Breadth-First Search (BFS): \";\n",
        "    v.parallelBFS(0);\n",
        "    cout << endl;\n",
        "}"
      ]
    },
    {
      "cell_type": "code",
      "source": [
        "!g++ -fopenmp main.cpp -o hpc1"
      ],
      "metadata": {
        "id": "l5d6KQFfcJax"
      },
      "execution_count": null,
      "outputs": []
    },
    {
      "cell_type": "code",
      "source": [
        "!./hpc1"
      ],
      "metadata": {
        "colab": {
          "base_uri": "https://localhost:8080/"
        },
        "id": "s5FwiBXRcKDX",
        "outputId": "69be768b-b6da-4611-befc-7ec7321a33c3"
      },
      "execution_count": null,
      "outputs": [
        {
          "output_type": "stream",
          "name": "stdout",
          "text": [
            "Depth-First Search (DFS): 0 1 2 3 4 5 6 \n",
            "Breadth-First Search (BFS): 0 2 1 6 5 4 3 \n"
          ]
        }
      ]
    },
    {
      "cell_type": "code",
      "source": [
        "## practical 4"
      ],
      "metadata": {
        "id": "v021vWe4cNVn"
      },
      "execution_count": null,
      "outputs": []
    },
    {
      "cell_type": "code",
      "source": [
        "%%cu"
      ],
      "metadata": {
        "colab": {
          "base_uri": "https://localhost:8080/"
        },
        "id": "HaSQ3ROiRmM1",
        "outputId": "cc48e4a1-5c35-4cb2-b4c5-fd06e837db9d"
      },
      "execution_count": null,
      "outputs": [
        {
          "output_type": "stream",
          "name": "stderr",
          "text": [
            "UsageError: Cell magic `%%cu` not found.\n"
          ]
        }
      ]
    },
    {
      "cell_type": "code",
      "source": [
        "%%writefile multiply.cu\n",
        "#include <stdio.h>\n",
        "#include <cuda_runtime.h>\n",
        "\n",
        "__global__ void matMul(float *A , float *B , float *C , int N) {\n",
        "    int row = blockIdx.y * blockDim.y + threadIdx.y;\n",
        "    int col = blockIdx.x * blockDim.x + threadIdx.x;\n",
        "\n",
        "    if (row < N && col < N) {\n",
        "        float sum = 0;\n",
        "        for (int i = 0; i < N; i++) {\n",
        "            sum += A[row * N + i] * B[i * N + col];\n",
        "        }\n",
        "        C[row * N + col] = sum;\n",
        "    }\n",
        "}\n",
        "\n",
        "int main() {\n",
        "    int N = 2;\n",
        "    size_t size = N * N * sizeof(float);\n",
        "\n",
        "    float A[] = {1, 2, 3, 4};\n",
        "    float B[] = {5, 6, 7, 8};\n",
        "    float C[4];\n",
        "\n",
        "    float *a, *b, *c;\n",
        "    cudaMalloc(&a, size);\n",
        "    cudaMalloc(&b, size);\n",
        "    cudaMalloc(&c, size);\n",
        "\n",
        "    cudaMemcpy(a, A, size, cudaMemcpyHostToDevice);\n",
        "    cudaMemcpy(b, B, size, cudaMemcpyHostToDevice);\n",
        "\n",
        "    dim3 threads(16, 16);\n",
        "    dim3 blocks((N + threads.x - 1) / threads.x, (N + threads.y - 1) / threads.y);\n",
        "\n",
        "    matMul<<<blocks, threads>>>(a, b, c, N);\n",
        "\n",
        "    // Add this to wait for GPU to finish before copying\n",
        "    cudaDeviceSynchronize();\n",
        "\n",
        "    // Check for kernel errors\n",
        "    cudaError_t err = cudaGetLastError();\n",
        "    if (err != cudaSuccess) {\n",
        "        printf(\"CUDA Error: %s\\n\", cudaGetErrorString(err));\n",
        "        return -1;\n",
        "    }\n",
        "\n",
        "    cudaMemcpy(C, c, size, cudaMemcpyDeviceToHost);\n",
        "\n",
        "    printf(\"Result Matrix C:\\n\");\n",
        "    for (int row = 0; row < N; row++) {\n",
        "        for (int col = 0; col < N; col++) {\n",
        "            printf(\"%f \", C[row * N + col]);\n",
        "        }\n",
        "        printf(\"\\n\");\n",
        "    }\n",
        "\n",
        "\n",
        "    cudaFree(a);\n",
        "    cudaFree(b);\n",
        "    cudaFree(c);\n",
        "    return 0;\n",
        "}\n"
      ],
      "metadata": {
        "colab": {
          "base_uri": "https://localhost:8080/"
        },
        "id": "yDy5HH7wRpn9",
        "outputId": "43b2e750-8dab-4b86-dae0-3f9221557545"
      },
      "execution_count": null,
      "outputs": [
        {
          "output_type": "stream",
          "name": "stdout",
          "text": [
            "Overwriting multiply.cu\n"
          ]
        }
      ]
    },
    {
      "cell_type": "code",
      "source": [
        "!nvcc -arch=sm_70 multiply.cu -o multiply"
      ],
      "metadata": {
        "id": "vzuwKthTXj9N"
      },
      "execution_count": null,
      "outputs": []
    },
    {
      "cell_type": "code",
      "source": [
        "!./multiply\n"
      ],
      "metadata": {
        "colab": {
          "base_uri": "https://localhost:8080/"
        },
        "id": "ak6f7WvpV6ic",
        "outputId": "04eaa0d7-5a6f-4358-dbf7-1ebb83516715"
      },
      "execution_count": null,
      "outputs": [
        {
          "output_type": "stream",
          "name": "stdout",
          "text": [
            "Result Matrix C:\n",
            "19.000000 22.000000 \n",
            "43.000000 50.000000 \n"
          ]
        }
      ]
    },
    {
      "cell_type": "code",
      "source": [
        "%%writefile addition.cu\n",
        "#include <stdio.h>\n",
        "\n",
        "__global__ void vecAdd(float *A , float *B , float *C , int N)\n",
        "{\n",
        "    int i = blockIdx.x * blockDim.x + threadIdx.x;\n",
        "    if(i < N)\n",
        "    {\n",
        "        C[i] = A[i] + B[i];\n",
        "    }\n",
        "}\n",
        "\n",
        "int main()\n",
        "{\n",
        "    int N = 5 ;\n",
        "    size_t size = N *sizeof(float);\n",
        "    float A[] = {1,2,3,4,5};\n",
        "    float B[] = {6,7,8,9,10};\n",
        "    float C[5];\n",
        "\n",
        "    float *a , *b , *c;\n",
        "    cudaMalloc(&a , size);\n",
        "    cudaMalloc(&b , size);\n",
        "    cudaMalloc(&c , size);\n",
        "\n",
        "    cudaMemcpy(a , A , size , cudaMemcpyHostToDevice);\n",
        "    cudaMemcpy(b , B , size , cudaMemcpyHostToDevice);\n",
        "\n",
        "    vecAdd<<<1 , N>>>(a , b , c , N);\n",
        "\n",
        "    cudaMemcpy(C , c , size , cudaMemcpyDeviceToHost);\n",
        "\n",
        "    printf(\"Result Vector C:\\n\");\n",
        "    for(int i=0;i<N;i++)\n",
        "    {\n",
        "        printf(\"%f \" , C[i]);\n",
        "    }\n",
        "    printf(\"\\n\");\n",
        "\n",
        "    cudaFree(c);\n",
        "    cudaFree(b);\n",
        "    cudaFree(a);\n",
        "    return 0;\n",
        "\n",
        "\n",
        "}"
      ],
      "metadata": {
        "colab": {
          "base_uri": "https://localhost:8080/"
        },
        "id": "0Fif1t_pV9g_",
        "outputId": "b2570da2-1d1d-436a-cd65-db4d72984c8a"
      },
      "execution_count": null,
      "outputs": [
        {
          "output_type": "stream",
          "name": "stdout",
          "text": [
            "Overwriting addition.cu\n"
          ]
        }
      ]
    },
    {
      "cell_type": "code",
      "source": [
        "!nvcc -arch=sm_70 addition.cu -o addition"
      ],
      "metadata": {
        "id": "o67fRgiGZd9i"
      },
      "execution_count": null,
      "outputs": []
    },
    {
      "cell_type": "code",
      "source": [
        "!./addition"
      ],
      "metadata": {
        "colab": {
          "base_uri": "https://localhost:8080/"
        },
        "id": "PFw_fb0BdoOR",
        "outputId": "3ddaa127-33a1-416d-a424-731d77d9a733"
      },
      "execution_count": null,
      "outputs": [
        {
          "output_type": "stream",
          "name": "stdout",
          "text": [
            "Result Vector C:\n",
            "7.000000 9.000000 11.000000 13.000000 15.000000 \n"
          ]
        }
      ]
    },
    {
      "cell_type": "code",
      "source": [],
      "metadata": {
        "id": "V1mMWh2IdsnJ"
      },
      "execution_count": null,
      "outputs": []
    }
  ]
}