{
  "nbformat": 4,
  "nbformat_minor": 0,
  "metadata": {
    "colab": {
      "provenance": []
    },
    "kernelspec": {
      "name": "python3",
      "display_name": "Python 3"
    },
    "language_info": {
      "name": "python"
    }
  },
  "cells": [
    {
      "cell_type": "code",
      "execution_count": null,
      "metadata": {
        "colab": {
          "base_uri": "https://localhost:8080/"
        },
        "id": "czPARUNBlQ3e",
        "outputId": "a5dfe45a-658d-4411-ba5b-a64bd6b8e521"
      },
      "outputs": [
        {
          "output_type": "stream",
          "name": "stdout",
          "text": [
            "Writing main.cpp\n"
          ]
        }
      ],
      "source": [
        "%%writefile main.cpp\n",
        "#include<bits/stdc++.h>\n",
        "using namespace std;\n",
        "\n",
        "class Graph\n",
        "{\n",
        "    int v ;\n",
        "    vector<vector<int>>adj;\n",
        "\n",
        "    public:\n",
        "    Graph(int a) : v(a) , adj(a) {}\n",
        "\n",
        "    void addEdge(int v , int w)\n",
        "    {\n",
        "        adj[v].push_back(w);\n",
        "    }\n",
        "\n",
        "    void parallelDFS (int startVertex)\n",
        "    {\n",
        "        vector<bool>visited(v, false);\n",
        "        DFS(startVertex , visited);\n",
        "    }\n",
        "\n",
        "    void DFS(int startVertex , vector<bool>&visited)\n",
        "    {\n",
        "        visited[startVertex] = true;\n",
        "        cout<<startVertex<<\" \";\n",
        "\n",
        "        #pragma omp parallel for\n",
        "        for(int i=0; i < adj[startVertex].size() ; i++)\n",
        "        {\n",
        "            int curr = adj[startVertex][i];\n",
        "            if(visited[curr]!=true)\n",
        "            {\n",
        "                DFS(curr , visited);\n",
        "            }\n",
        "        }\n",
        "    }\n",
        "\n",
        "\n",
        "    void parallelBFS (int startVertex)\n",
        "    {\n",
        "        vector<bool>visited(v, false);\n",
        "        queue<int>q;\n",
        "\n",
        "        visited[startVertex] = true;\n",
        "        q.push(startVertex);\n",
        "\n",
        "        while(!q.empty())\n",
        "        {\n",
        "            int curr = q.front();\n",
        "            q.pop();\n",
        "            cout<<curr<<\" \";\n",
        "\n",
        "            #pragma omp parallel for\n",
        "            for(int i=0; i <adj[curr].size() ; i++)\n",
        "            {\n",
        "                int temp = adj[curr][i];\n",
        "                if(visited[temp]!=true)\n",
        "                {\n",
        "                    visited[temp] = true;\n",
        "                    q.push(temp);\n",
        "                }\n",
        "            }\n",
        "        }\n",
        "    }\n",
        "};\n",
        "\n",
        "int main()\n",
        "{\n",
        "    Graph g(7);\n",
        "    g.addEdge(0,1);\n",
        "    g.addEdge(0,2);\n",
        "    g.addEdge(1,3);\n",
        "    g.addEdge(1,4);\n",
        "    g.addEdge(2,5);\n",
        "    g.addEdge(2,6);\n",
        "\n",
        "    cout << \"Depth-First Search (DFS): \";\n",
        "    g.parallelDFS(0);\n",
        "    cout << endl;\n",
        "\n",
        "    cout << \"Breadth-First Search (BFS): \";\n",
        "    g.parallelBFS(0);\n",
        "    cout << endl;\n",
        "\n",
        "    return 0;\n",
        "\n",
        "}\n"
      ]
    },
    {
      "cell_type": "code",
      "source": [
        "!g++ -fopenmp main.cpp -o main"
      ],
      "metadata": {
        "id": "kCSPl5bNleS6"
      },
      "execution_count": null,
      "outputs": []
    },
    {
      "cell_type": "code",
      "source": [
        "!./main"
      ],
      "metadata": {
        "colab": {
          "base_uri": "https://localhost:8080/"
        },
        "id": "CcVMLFxgl3Jz",
        "outputId": "091f6ffa-d4ab-4784-ed8d-0bbc87f4c4f8"
      },
      "execution_count": null,
      "outputs": [
        {
          "output_type": "stream",
          "name": "stdout",
          "text": [
            "Depth-First Search (DFS): 0 2 1 3 4 5 6 \n",
            "Breadth-First Search (BFS): 0 2 1 6 5 4 3 \n"
          ]
        }
      ]
    },
    {
      "cell_type": "code",
      "source": [],
      "metadata": {
        "id": "g2anhe2Fl-aE"
      },
      "execution_count": null,
      "outputs": []
    }
  ]
}