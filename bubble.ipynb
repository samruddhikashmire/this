{
  "nbformat": 4,
  "nbformat_minor": 0,
  "metadata": {
    "colab": {
      "provenance": []
    },
    "kernelspec": {
      "name": "python3",
      "display_name": "Python 3"
    },
    "language_info": {
      "name": "python"
    }
  },
  "cells": [
    {
      "cell_type": "code",
      "execution_count": null,
      "metadata": {
        "colab": {
          "base_uri": "https://localhost:8080/"
        },
        "id": "OiOyU1c9mZg_",
        "outputId": "1566ebb2-32c8-4ccc-8e39-66b7337870d6"
      },
      "outputs": [
        {
          "output_type": "stream",
          "name": "stdout",
          "text": [
            "Writing bubble.cpp\n"
          ]
        }
      ],
      "source": [
        "%%writefile bubble.cpp\n",
        "#include <bits/stdc++.h>\n",
        "#include<omp.h>\n",
        "using namespace std;\n",
        "\n",
        "\n",
        "void NormalBubble(vector<int>&v , int n)\n",
        "{\n",
        "    for(int i=0;i<n;i++)\n",
        "    {\n",
        "        for(int j=0;j<n-i-1;j++)\n",
        "        {\n",
        "            if(v[j] > v[j+1])\n",
        "              swap(v[j] , v[j+1]);\n",
        "        }\n",
        "    }\n",
        "}\n",
        "\n",
        "void ParallelBubble(vector<int>&v , int n)\n",
        "{\n",
        "    for(int i=0;i<n;i++)\n",
        "    {\n",
        "        //odd\n",
        "        #pragma omp for\n",
        "        for(int j=1  ; j<n ; j+=2)\n",
        "        {\n",
        "            if(v[j] < v[j-1])\n",
        "            {\n",
        "                swap(v[j] , v[j-1]);\n",
        "            }\n",
        "        }\n",
        "\n",
        "        #pragma omp barrier\n",
        "\n",
        "        //even\n",
        "        #pragma omp for\n",
        "        for(int j=2 ; j<n ; j+=2)\n",
        "        {\n",
        "            if(v[j] < v[j-1])\n",
        "            {\n",
        "                swap(v[j] , v[j-1]);\n",
        "            }\n",
        "        }\n",
        "\n",
        "        #pragma omp barrier\n",
        "\n",
        "\n",
        "    }\n",
        "}\n",
        "\n",
        "void printArray(vector<int>v ,int n){\n",
        "    for(int i = 0; i < n; i++) cout << v[i] << \" \";\n",
        "    cout << \"\\n\";\n",
        "}\n",
        "int main()\n",
        "{\n",
        "    int n ;\n",
        "    cin>>n;\n",
        "    double start_time, end_time;\n",
        "\n",
        "    vector<int>v(n);\n",
        "    for(int i=0;i<n;i++)\n",
        "    {\n",
        "        cin>>v[i];\n",
        "    }\n",
        "\n",
        "    start_time = omp_get_wtime();\n",
        "    NormalBubble(v , n);\n",
        "    end_time = omp_get_wtime();\n",
        "    cout << \"Sequential Bubble Sort took : \" << end_time - start_time << \" seconds.\\n\";\n",
        "    printArray(v, n);\n",
        "\n",
        "    for(int i=0;i<n;i++)\n",
        "    {\n",
        "        cin>>v[i];\n",
        "    }\n",
        "\n",
        "    start_time = omp_get_wtime();\n",
        "    #pragma omp parallel\n",
        "{\n",
        "    ParallelBubble(v , n);\n",
        "}\n",
        "\n",
        "    end_time = omp_get_wtime();\n",
        "    cout << \"Parallel Bubble Sort took : \" << end_time - start_time << \" seconds.\\n\";\n",
        "    printArray(v, n);\n",
        "\n",
        "\n",
        "}"
      ]
    },
    {
      "cell_type": "code",
      "source": [
        "!g++ -fopenmp bubble.cpp -o bubble"
      ],
      "metadata": {
        "id": "h1U6sUVvmgQu"
      },
      "execution_count": null,
      "outputs": []
    },
    {
      "cell_type": "code",
      "source": [
        "!./bubble"
      ],
      "metadata": {
        "colab": {
          "base_uri": "https://localhost:8080/"
        },
        "id": "LUIZz8DPmoRC",
        "outputId": "838038e2-26b1-4358-8cd0-d95481c9bc1a"
      },
      "execution_count": null,
      "outputs": [
        {
          "output_type": "stream",
          "name": "stdout",
          "text": [
            "5\n",
            "5\n",
            "2\n",
            "4\n",
            "7\n",
            "3\n",
            "Sequential Bubble Sort took : 1.013e-06 seconds.\n",
            "2 3 4 5 7 \n",
            "5\n",
            "5\n",
            "2\n",
            "4\n",
            "7\n",
            "Parallel Bubble Sort took : 0.00117002 seconds.\n",
            "2 4 5 5 7 \n"
          ]
        }
      ]
    },
    {
      "cell_type": "code",
      "source": [],
      "metadata": {
        "id": "DR2SQtJqmq40"
      },
      "execution_count": null,
      "outputs": []
    }
  ]
}