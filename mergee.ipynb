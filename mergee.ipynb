{
  "nbformat": 4,
  "nbformat_minor": 0,
  "metadata": {
    "colab": {
      "provenance": []
    },
    "kernelspec": {
      "name": "python3",
      "display_name": "Python 3"
    },
    "language_info": {
      "name": "python"
    }
  },
  "cells": [
    {
      "cell_type": "code",
      "execution_count": null,
      "metadata": {
        "colab": {
          "base_uri": "https://localhost:8080/"
        },
        "id": "lzdh9WdanJyx",
        "outputId": "31839e92-b8ad-4185-9442-10ff6bfc99dd"
      },
      "outputs": [
        {
          "output_type": "stream",
          "name": "stdout",
          "text": [
            "Overwriting mergee.cpp\n"
          ]
        }
      ],
      "source": [
        "%%writefile mergee.cpp\n",
        "#include<omp.h>\n",
        "#include<bits/stdc++.h>\n",
        "using namespace std;\n",
        "void merge(vector<int>&v , int l , int mid , int r)\n",
        "{\n",
        "    vector<int>temp;\n",
        "    int left = l;\n",
        "    int right = mid+1;\n",
        "\n",
        "    while(left<=mid && right<=r)\n",
        "    {\n",
        "        if(v[left] <= v[right])\n",
        "        {\n",
        "            temp.push_back(v[left]);\n",
        "            left++;\n",
        "\n",
        "        }\n",
        "        else\n",
        "        {\n",
        "            temp.push_back(v[right]);\n",
        "            right++;\n",
        "        }\n",
        "    }\n",
        "\n",
        "    while(left<=mid)\n",
        "    {\n",
        "        temp.push_back(v[left]);\n",
        "        left++;\n",
        "    }\n",
        "\n",
        "    while(right<=r)\n",
        "    {\n",
        "        temp.push_back(v[right]);\n",
        "        right++;\n",
        "    }\n",
        "\n",
        "     for (int i = l; i <= r; i++) {\n",
        "        v[i] = temp[i - l];\n",
        "    }\n",
        "}\n",
        "void mergeSORT(int l , int r , vector<int>&v)\n",
        "{\n",
        "\n",
        "    if(l >=r)\n",
        "    return ;\n",
        "    int mid = (l+r)/2;\n",
        "    mergeSORT(l , mid , v);\n",
        "    mergeSORT(mid+1 , r , v);\n",
        "    merge(v , l , mid , r);\n",
        "}\n",
        "\n",
        "void parallelMergeSort(int l , int r , vector<int>&v) {\n",
        "    if (l < r) {\n",
        "        int mid = (l + r) / 2;\n",
        "\n",
        "        #pragma omp parallel sections\n",
        "        {\n",
        "            #pragma omp section\n",
        "            parallelMergeSort( l, mid , v);\n",
        "\n",
        "            #pragma omp section\n",
        "            parallelMergeSort( mid + 1, r , v);\n",
        "        }\n",
        "\n",
        "        merge(v , l , mid , r);\n",
        "    }\n",
        "}\n",
        "\n",
        "int main()\n",
        "{\n",
        "    int n ;\n",
        "    cin>>n;\n",
        "    vector<int>v(n);\n",
        "\n",
        "\n",
        "    double start_time, end_time;\n",
        "\n",
        "\n",
        "    for(int i=0;i<n;i++)\n",
        "    {\n",
        "        cin>>v[i];\n",
        "    }\n",
        "\n",
        "    start_time = omp_get_wtime();\n",
        "    mergeSORT( 0, n - 1 , v);\n",
        "    end_time = omp_get_wtime();\n",
        "    cout << \"Time taken by sequential algorithm: \" << end_time - start_time << \" seconds\\n\";\n",
        "\n",
        "\n",
        "    for(int i=0;i<n;i++)\n",
        "    {\n",
        "        cin>>v[i];\n",
        "    }\n",
        "\n",
        "    start_time = omp_get_wtime();\n",
        "    parallelMergeSort(0, n - 1 , v);\n",
        "    end_time = omp_get_wtime();\n",
        "    cout << \"Time taken by parallel algorithm: \" << end_time - start_time << \" seconds\\n\";\n",
        "\n",
        "    return 0;\n",
        "}"
      ]
    },
    {
      "cell_type": "code",
      "source": [
        "!g++ -fopenmp mergee.cpp -o mergee"
      ],
      "metadata": {
        "id": "eU3Ak_xjnTDe"
      },
      "execution_count": null,
      "outputs": []
    },
    {
      "cell_type": "code",
      "source": [
        "!./mergee"
      ],
      "metadata": {
        "colab": {
          "base_uri": "https://localhost:8080/"
        },
        "id": "o29DyeuIn9q0",
        "outputId": "07ffe338-1217-4e8a-e448-7421ebaf6073"
      },
      "execution_count": null,
      "outputs": [
        {
          "output_type": "stream",
          "name": "stdout",
          "text": [
            "5\n",
            "5\n",
            "2\n",
            "4\n",
            "7\n",
            "3\n",
            "Time taken by sequential algorithm: 1.3705e-05 seconds\n",
            "5\n",
            "2\n",
            "4\n",
            "7\n",
            "3\n",
            "Time taken by parallel algorithm: 0.000179237 seconds\n"
          ]
        }
      ]
    },
    {
      "cell_type": "code",
      "source": [],
      "metadata": {
        "id": "0aV9OWZFooDJ"
      },
      "execution_count": null,
      "outputs": []
    }
  ]
}